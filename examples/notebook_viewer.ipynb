{
 "cells": [
  {
   "cell_type": "code",
   "execution_count": 1,
   "id": "f9387502-1f28-45cf-a850-29d71953e67b",
   "metadata": {},
   "outputs": [
    {
     "data": {
      "text/html": [
       "<pre style=\"white-space:pre;overflow-x:auto;line-height:normal;font-family:Menlo,'DejaVu Sans Mono',consolas,'Courier New',monospace\"><span style=\"color: #7fbfbf; text-decoration-color: #7fbfbf\">[14:40:28] </span><span style=\"color: #008000; text-decoration-color: #008000\">DEBUG   </span> matplotlib data path:                                                           <a href=\"file:///Users/kyamauch/Documents/code/skeleplex_v2/.venv/lib/python3.10/site-packages/matplotlib/__init__.py\" target=\"_blank\"><span style=\"color: #7f7f7f; text-decoration-color: #7f7f7f\">__init__.py</span></a><span style=\"color: #7f7f7f; text-decoration-color: #7f7f7f\">:</span><a href=\"file:///Users/kyamauch/Documents/code/skeleplex_v2/.venv/lib/python3.10/site-packages/matplotlib/__init__.py#341\" target=\"_blank\"><span style=\"color: #7f7f7f; text-decoration-color: #7f7f7f\">341</span></a>\n",
       "<span style=\"color: #7fbfbf; text-decoration-color: #7fbfbf\">           </span>         <span style=\"color: #800080; text-decoration-color: #800080\">/Users/kyamauch/Documents/code/skeleplex_v2/.venv/lib/python3.10/site-packages/</span> <span style=\"color: #7f7f7f; text-decoration-color: #7f7f7f\">               </span>\n",
       "<span style=\"color: #7fbfbf; text-decoration-color: #7fbfbf\">           </span>         <span style=\"color: #800080; text-decoration-color: #800080\">matplotlib/</span><span style=\"color: #ff00ff; text-decoration-color: #ff00ff\">mpl-data</span>                                                             <span style=\"color: #7f7f7f; text-decoration-color: #7f7f7f\">               </span>\n",
       "</pre>\n"
      ],
      "text/plain": [
       "\u001B[2;36m[14:40:28]\u001B[0m\u001B[2;36m \u001B[0m\u001B[32mDEBUG   \u001B[0m matplotlib data path:                                                           \u001B]8;id=106438;file:///Users/kyamauch/Documents/code/skeleplex_v2/.venv/lib/python3.10/site-packages/matplotlib/__init__.py\u001B\\\u001B[2m__init__.py\u001B[0m\u001B]8;;\u001B\\\u001B[2m:\u001B[0m\u001B]8;id=401891;file:///Users/kyamauch/Documents/code/skeleplex_v2/.venv/lib/python3.10/site-packages/matplotlib/__init__.py#341\u001B\\\u001B[2m341\u001B[0m\u001B]8;;\u001B\\\n",
       "\u001B[2;36m           \u001B[0m         \u001B[35m/Users/kyamauch/Documents/code/skeleplex_v2/.venv/lib/python3.10/site-packages/\u001B[0m \u001B[2m               \u001B[0m\n",
       "\u001B[2;36m           \u001B[0m         \u001B[35mmatplotlib/\u001B[0m\u001B[95mmpl-data\u001B[0m                                                             \u001B[2m               \u001B[0m\n"
      ]
     },
     "metadata": {},
     "output_type": "display_data"
    },
    {
     "data": {
      "text/html": [
       "<pre style=\"white-space:pre;overflow-x:auto;line-height:normal;font-family:Menlo,'DejaVu Sans Mono',consolas,'Courier New',monospace\"><span style=\"color: #7fbfbf; text-decoration-color: #7fbfbf\">           </span><span style=\"color: #008000; text-decoration-color: #008000\">DEBUG   </span> <span style=\"color: #808000; text-decoration-color: #808000\">CONFIGDIR</span>=<span style=\"color: #800080; text-decoration-color: #800080\">/Users/kyamauch/</span><span style=\"color: #ff00ff; text-decoration-color: #ff00ff\">.matplotlib</span>                                           <a href=\"file:///Users/kyamauch/Documents/code/skeleplex_v2/.venv/lib/python3.10/site-packages/matplotlib/__init__.py\" target=\"_blank\"><span style=\"color: #7f7f7f; text-decoration-color: #7f7f7f\">__init__.py</span></a><span style=\"color: #7f7f7f; text-decoration-color: #7f7f7f\">:</span><a href=\"file:///Users/kyamauch/Documents/code/skeleplex_v2/.venv/lib/python3.10/site-packages/matplotlib/__init__.py#341\" target=\"_blank\"><span style=\"color: #7f7f7f; text-decoration-color: #7f7f7f\">341</span></a>\n",
       "</pre>\n"
      ],
      "text/plain": [
       "\u001B[2;36m          \u001B[0m\u001B[2;36m \u001B[0m\u001B[32mDEBUG   \u001B[0m \u001B[33mCONFIGDIR\u001B[0m=\u001B[35m/Users/kyamauch/\u001B[0m\u001B[95m.matplotlib\u001B[0m                                           \u001B]8;id=801721;file:///Users/kyamauch/Documents/code/skeleplex_v2/.venv/lib/python3.10/site-packages/matplotlib/__init__.py\u001B\\\u001B[2m__init__.py\u001B[0m\u001B]8;;\u001B\\\u001B[2m:\u001B[0m\u001B]8;id=81632;file:///Users/kyamauch/Documents/code/skeleplex_v2/.venv/lib/python3.10/site-packages/matplotlib/__init__.py#341\u001B\\\u001B[2m341\u001B[0m\u001B]8;;\u001B\\\n"
      ]
     },
     "metadata": {},
     "output_type": "display_data"
    },
    {
     "data": {
      "text/html": [
       "<pre style=\"white-space:pre;overflow-x:auto;line-height:normal;font-family:Menlo,'DejaVu Sans Mono',consolas,'Courier New',monospace\"><span style=\"color: #7fbfbf; text-decoration-color: #7fbfbf\">           </span><span style=\"color: #008000; text-decoration-color: #008000\">DEBUG   </span> interactive is <span style=\"color: #ff0000; text-decoration-color: #ff0000; font-style: italic\">False</span>                                                           <a href=\"file:///Users/kyamauch/Documents/code/skeleplex_v2/.venv/lib/python3.10/site-packages/matplotlib/__init__.py\" target=\"_blank\"><span style=\"color: #7f7f7f; text-decoration-color: #7f7f7f\">__init__.py</span></a><span style=\"color: #7f7f7f; text-decoration-color: #7f7f7f\">:</span><a href=\"file:///Users/kyamauch/Documents/code/skeleplex_v2/.venv/lib/python3.10/site-packages/matplotlib/__init__.py#1512\" target=\"_blank\"><span style=\"color: #7f7f7f; text-decoration-color: #7f7f7f\">1512</span></a>\n",
       "</pre>\n"
      ],
      "text/plain": [
       "\u001B[2;36m          \u001B[0m\u001B[2;36m \u001B[0m\u001B[32mDEBUG   \u001B[0m interactive is \u001B[3;91mFalse\u001B[0m                                                           \u001B]8;id=110624;file:///Users/kyamauch/Documents/code/skeleplex_v2/.venv/lib/python3.10/site-packages/matplotlib/__init__.py\u001B\\\u001B[2m__init__.py\u001B[0m\u001B]8;;\u001B\\\u001B[2m:\u001B[0m\u001B]8;id=961221;file:///Users/kyamauch/Documents/code/skeleplex_v2/.venv/lib/python3.10/site-packages/matplotlib/__init__.py#1512\u001B\\\u001B[2m1512\u001B[0m\u001B]8;;\u001B\\\n"
      ]
     },
     "metadata": {},
     "output_type": "display_data"
    },
    {
     "data": {
      "text/html": [
       "<pre style=\"white-space:pre;overflow-x:auto;line-height:normal;font-family:Menlo,'DejaVu Sans Mono',consolas,'Courier New',monospace\"><span style=\"color: #7fbfbf; text-decoration-color: #7fbfbf\">           </span><span style=\"color: #008000; text-decoration-color: #008000\">DEBUG   </span> platform is darwin                                                             <a href=\"file:///Users/kyamauch/Documents/code/skeleplex_v2/.venv/lib/python3.10/site-packages/matplotlib/__init__.py\" target=\"_blank\"><span style=\"color: #7f7f7f; text-decoration-color: #7f7f7f\">__init__.py</span></a><span style=\"color: #7f7f7f; text-decoration-color: #7f7f7f\">:</span><a href=\"file:///Users/kyamauch/Documents/code/skeleplex_v2/.venv/lib/python3.10/site-packages/matplotlib/__init__.py#1513\" target=\"_blank\"><span style=\"color: #7f7f7f; text-decoration-color: #7f7f7f\">1513</span></a>\n",
       "</pre>\n"
      ],
      "text/plain": [
       "\u001B[2;36m          \u001B[0m\u001B[2;36m \u001B[0m\u001B[32mDEBUG   \u001B[0m platform is darwin                                                             \u001B]8;id=501291;file:///Users/kyamauch/Documents/code/skeleplex_v2/.venv/lib/python3.10/site-packages/matplotlib/__init__.py\u001B\\\u001B[2m__init__.py\u001B[0m\u001B]8;;\u001B\\\u001B[2m:\u001B[0m\u001B]8;id=51164;file:///Users/kyamauch/Documents/code/skeleplex_v2/.venv/lib/python3.10/site-packages/matplotlib/__init__.py#1513\u001B\\\u001B[2m1513\u001B[0m\u001B]8;;\u001B\\\n"
      ]
     },
     "metadata": {},
     "output_type": "display_data"
    }
   ],
   "source": "from skeleplex.app import view_skeleton"
  },
  {
   "cell_type": "code",
   "execution_count": 2,
   "id": "fbdfd670-f6c0-4d81-982b-82661f44f7ba",
   "metadata": {},
   "outputs": [
    {
     "data": {
      "text/html": [
       "<pre style=\"white-space:pre;overflow-x:auto;line-height:normal;font-family:Menlo,'DejaVu Sans Mono',consolas,'Courier New',monospace\"><span style=\"color: #7fbfbf; text-decoration-color: #7fbfbf\">           </span><span style=\"color: #000080; text-decoration-color: #000080\">INFO    </span> Loading skeleton graph from ..<span style=\"color: #800080; text-decoration-color: #800080\">/scripts/</span><span style=\"color: #ff00ff; text-decoration-color: #ff00ff\">e16_skeleplex_v2.json</span>                       <a href=\"file:///Users/kyamauch/Documents/code/skeleplex_v2/src/skeleplex/app/_data.py\" target=\"_blank\"><span style=\"color: #7f7f7f; text-decoration-color: #7f7f7f\">_data.py</span></a><span style=\"color: #7f7f7f; text-decoration-color: #7f7f7f\">:</span><a href=\"file:///Users/kyamauch/Documents/code/skeleplex_v2/src/skeleplex/app/_data.py#382\" target=\"_blank\"><span style=\"color: #7f7f7f; text-decoration-color: #7f7f7f\">382</span></a>\n",
       "</pre>\n"
      ],
      "text/plain": [
       "\u001B[2;36m          \u001B[0m\u001B[2;36m \u001B[0m\u001B[34mINFO    \u001B[0m Loading skeleton graph from ..\u001B[35m/scripts/\u001B[0m\u001B[95me16_skeleplex_v2.json\u001B[0m                       \u001B]8;id=344978;file:///Users/kyamauch/Documents/code/skeleplex_v2/src/skeleplex/app/_data.py\u001B\\\u001B[2m_data.py\u001B[0m\u001B]8;;\u001B\\\u001B[2m:\u001B[0m\u001B]8;id=835830;file:///Users/kyamauch/Documents/code/skeleplex_v2/src/skeleplex/app/_data.py#382\u001B\\\u001B[2m382\u001B[0m\u001B]8;;\u001B\\\n"
      ]
     },
     "metadata": {},
     "output_type": "display_data"
    },
    {
     "data": {
      "text/html": [
       "<pre style=\"white-space:pre;overflow-x:auto;line-height:normal;font-family:Menlo,'DejaVu Sans Mono',consolas,'Courier New',monospace\"><span style=\"color: #7fbfbf; text-decoration-color: #7fbfbf\">[14:40:33] </span><span style=\"color: #008000; text-decoration-color: #008000\">DEBUG   </span> Starting new HTTPS connection <span style=\"font-weight: bold\">(</span><span style=\"color: #008080; text-decoration-color: #008080; font-weight: bold\">1</span><span style=\"font-weight: bold\">)</span>: api.iconify.design:<span style=\"color: #008080; text-decoration-color: #008080; font-weight: bold\">443</span>                <a href=\"file:///Users/kyamauch/Documents/code/skeleplex_v2/.venv/lib/python3.10/site-packages/urllib3/connectionpool.py\" target=\"_blank\"><span style=\"color: #7f7f7f; text-decoration-color: #7f7f7f\">connectionpool.py</span></a><span style=\"color: #7f7f7f; text-decoration-color: #7f7f7f\">:</span><a href=\"file:///Users/kyamauch/Documents/code/skeleplex_v2/.venv/lib/python3.10/site-packages/urllib3/connectionpool.py#1049\" target=\"_blank\"><span style=\"color: #7f7f7f; text-decoration-color: #7f7f7f\">1049</span></a>\n",
       "</pre>\n"
      ],
      "text/plain": [
       "\u001B[2;36m[14:40:33]\u001B[0m\u001B[2;36m \u001B[0m\u001B[32mDEBUG   \u001B[0m Starting new HTTPS connection \u001B[1m(\u001B[0m\u001B[1;36m1\u001B[0m\u001B[1m)\u001B[0m: api.iconify.design:\u001B[1;36m443\u001B[0m                \u001B]8;id=690786;file:///Users/kyamauch/Documents/code/skeleplex_v2/.venv/lib/python3.10/site-packages/urllib3/connectionpool.py\u001B\\\u001B[2mconnectionpool.py\u001B[0m\u001B]8;;\u001B\\\u001B[2m:\u001B[0m\u001B]8;id=332397;file:///Users/kyamauch/Documents/code/skeleplex_v2/.venv/lib/python3.10/site-packages/urllib3/connectionpool.py#1049\u001B\\\u001B[2m1049\u001B[0m\u001B]8;;\u001B\\\n"
      ]
     },
     "metadata": {},
     "output_type": "display_data"
    },
    {
     "data": {
      "text/html": [
       "<pre style=\"white-space:pre;overflow-x:auto;line-height:normal;font-family:Menlo,'DejaVu Sans Mono',consolas,'Courier New',monospace\"><span style=\"color: #7fbfbf; text-decoration-color: #7fbfbf\">           </span><span style=\"color: #008000; text-decoration-color: #008000\">DEBUG   </span> <span style=\"color: #0000ff; text-decoration-color: #0000ff; text-decoration: underline\">https://api.iconify.design:443</span> <span style=\"color: #008000; text-decoration-color: #008000\">\"</span><span style=\"color: #808000; text-decoration-color: #808000; font-weight: bold\">GET</span><span style=\"color: #008000; text-decoration-color: #008000\"> /last-modified?prefixes= HTTP/1.1\"</span>    <a href=\"file:///Users/kyamauch/Documents/code/skeleplex_v2/.venv/lib/python3.10/site-packages/urllib3/connectionpool.py\" target=\"_blank\"><span style=\"color: #7f7f7f; text-decoration-color: #7f7f7f\">connectionpool.py</span></a><span style=\"color: #7f7f7f; text-decoration-color: #7f7f7f\">:</span><a href=\"file:///Users/kyamauch/Documents/code/skeleplex_v2/.venv/lib/python3.10/site-packages/urllib3/connectionpool.py#544\" target=\"_blank\"><span style=\"color: #7f7f7f; text-decoration-color: #7f7f7f\">544</span></a>\n",
       "<span style=\"color: #7fbfbf; text-decoration-color: #7fbfbf\">           </span>         <span style=\"color: #008080; text-decoration-color: #008080; font-weight: bold\">200</span> <span style=\"color: #800080; text-decoration-color: #800080; font-style: italic\">None</span>                                                                  <span style=\"color: #7f7f7f; text-decoration-color: #7f7f7f\">                     </span>\n",
       "</pre>\n"
      ],
      "text/plain": [
       "\u001B[2;36m          \u001B[0m\u001B[2;36m \u001B[0m\u001B[32mDEBUG   \u001B[0m \u001B[4;94mhttps://api.iconify.design:443\u001B[0m \u001B[32m\"\u001B[0m\u001B[1;33mGET\u001B[0m\u001B[32m /last-modified?\u001B[0m\u001B[32mprefixes\u001B[0m\u001B[32m= HTTP/1.1\"\u001B[0m    \u001B]8;id=758017;file:///Users/kyamauch/Documents/code/skeleplex_v2/.venv/lib/python3.10/site-packages/urllib3/connectionpool.py\u001B\\\u001B[2mconnectionpool.py\u001B[0m\u001B]8;;\u001B\\\u001B[2m:\u001B[0m\u001B]8;id=838961;file:///Users/kyamauch/Documents/code/skeleplex_v2/.venv/lib/python3.10/site-packages/urllib3/connectionpool.py#544\u001B\\\u001B[2m544\u001B[0m\u001B]8;;\u001B\\\n",
       "\u001B[2;36m           \u001B[0m         \u001B[1;36m200\u001B[0m \u001B[3;35mNone\u001B[0m                                                                  \u001B[2m                     \u001B[0m\n"
      ]
     },
     "metadata": {},
     "output_type": "display_data"
    },
    {
     "data": {
      "text/html": [
       "<pre style=\"white-space:pre;overflow-x:auto;line-height:normal;font-family:Menlo,'DejaVu Sans Mono',consolas,'Courier New',monospace\"><span style=\"color: #7fbfbf; text-decoration-color: #7fbfbf\">           </span><span style=\"color: #008000; text-decoration-color: #008000\">DEBUG   </span> Loading data into the main viewer<span style=\"color: #808000; text-decoration-color: #808000\">...</span>                                                 <a href=\"file:///Users/kyamauch/Documents/code/skeleplex_v2/src/skeleplex/app/_app.py\" target=\"_blank\"><span style=\"color: #7f7f7f; text-decoration-color: #7f7f7f\">_app.py</span></a><span style=\"color: #7f7f7f; text-decoration-color: #7f7f7f\">:</span><a href=\"file:///Users/kyamauch/Documents/code/skeleplex_v2/src/skeleplex/app/_app.py#69\" target=\"_blank\"><span style=\"color: #7f7f7f; text-decoration-color: #7f7f7f\">69</span></a>\n",
       "</pre>\n"
      ],
      "text/plain": [
       "\u001B[2;36m          \u001B[0m\u001B[2;36m \u001B[0m\u001B[32mDEBUG   \u001B[0m Loading data into the main viewer\u001B[33m...\u001B[0m                                                 \u001B]8;id=416601;file:///Users/kyamauch/Documents/code/skeleplex_v2/src/skeleplex/app/_app.py\u001B\\\u001B[2m_app.py\u001B[0m\u001B]8;;\u001B\\\u001B[2m:\u001B[0m\u001B]8;id=27868;file:///Users/kyamauch/Documents/code/skeleplex_v2/src/skeleplex/app/_app.py#69\u001B\\\u001B[2m69\u001B[0m\u001B]8;;\u001B\\\n"
      ]
     },
     "metadata": {},
     "output_type": "display_data"
    }
   ],
   "source": "viewer = view_skeleton(graph_path=\"../scripts/e16_skeleplex_v2.json\")"
  },
  {
   "cell_type": "code",
   "execution_count": 3,
   "id": "0e1ae923-d0cb-46a8-bfe7-7f7e1f88ad28",
   "metadata": {},
   "outputs": [
    {
     "name": "stdout",
     "output_type": "stream",
     "text": [
      "[[3595. 4100.  810.]]\n"
     ]
    }
   ],
   "source": [
    "# get the keys of the currently selected nodes\n",
    "viewer.data.selection.node.values = {303574}"
   ]
  },
  {
   "cell_type": "code",
   "execution_count": null,
   "id": "339451aa-f993-43c7-8639-2b4f2b79ee0f",
   "metadata": {},
   "outputs": [],
   "source": []
  }
 ],
 "metadata": {
  "kernelspec": {
   "display_name": "Python 3 (ipykernel)",
   "language": "python",
   "name": "python3"
  },
  "language_info": {
   "codemirror_mode": {
    "name": "ipython",
    "version": 3
   },
   "file_extension": ".py",
   "mimetype": "text/x-python",
   "name": "python",
   "nbconvert_exporter": "python",
   "pygments_lexer": "ipython3",
   "version": "3.10.16"
  }
 },
 "nbformat": 4,
 "nbformat_minor": 5
}
